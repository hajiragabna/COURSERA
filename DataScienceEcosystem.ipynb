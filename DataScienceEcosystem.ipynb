{
 "cells": [
  {
   "cell_type": "markdown",
   "id": "6f08eba3",
   "metadata": {},
   "source": [
    "# Data Science Tools and Ecosystem"
   ]
  },
  {
   "cell_type": "markdown",
   "id": "97478482",
   "metadata": {},
   "source": [
    "In this notebook, Data Science Tools and Ecosystem are summarized."
   ]
  },
  {
   "cell_type": "markdown",
   "id": "71ec9dc3",
   "metadata": {},
   "source": [
    "__Objectives:__\n",
    "    \n",
    "    *List popular languages for Data Science\n",
    "    *List popular libraries for Data Science\n",
    "    *List well known Data Science tools\n",
    "    *How to add comments in the cell"
   ]
  },
  {
   "cell_type": "markdown",
   "id": "3e1fc975",
   "metadata": {},
   "source": [
    "Some of the popular languages that Data Scientists use are:\n",
    "\n",
    "    1.python\n",
    "    2.R\n",
    "    3.SQL\n",
    "    4. C++\n"
   ]
  },
  {
   "cell_type": "markdown",
   "id": "2f1aef4d",
   "metadata": {},
   "source": [
    "Some of the commonly used libraries used by Data Scientists include:\n",
    "\n",
    "     1 NUMPY\n",
    "     2 MATPLOTLIB\n",
    "     3 SCiPY\n",
    "     4 PANDAS"
   ]
  },
  {
   "cell_type": "markdown",
   "id": "1a7a26be",
   "metadata": {},
   "source": [
    "|Data Science Tools|\n",
    "|---|\n",
    "|SAS|\n",
    "|Apache Hadoop|\n",
    "TensorFlow|\n"
   ]
  },
  {
   "cell_type": "markdown",
   "id": "43e2da03",
   "metadata": {},
   "source": [
    "### Below are a few examples of evaluating arithmetic expressions in Python"
   ]
  },
  {
   "cell_type": "code",
   "execution_count": 3,
   "id": "a8f86b8e",
   "metadata": {},
   "outputs": [
    {
     "data": {
      "text/plain": [
       "17"
      ]
     },
     "execution_count": 3,
     "metadata": {},
     "output_type": "execute_result"
    }
   ],
   "source": [
    "#This a simple arithmetic expression to mutiply then add integers.\n",
    "(3*4)+5"
   ]
  },
  {
   "cell_type": "code",
   "execution_count": 4,
   "id": "61579253",
   "metadata": {},
   "outputs": [
    {
     "data": {
      "text/plain": [
       "3.3333333333333335"
      ]
     },
     "execution_count": 4,
     "metadata": {},
     "output_type": "execute_result"
    }
   ],
   "source": [
    "#This will convert 200 minutes to hours by diving by 60.\n",
    "200/60"
   ]
  },
  {
   "cell_type": "markdown",
   "id": "265aa96f",
   "metadata": {},
   "source": []
  },
  {
   "cell_type": "markdown",
   "id": "0836c932",
   "metadata": {},
   "source": [
    "## __Author__\n",
    "Hajir Agabna"
   ]
  }
 ],
 "metadata": {
  "kernelspec": {
   "display_name": "Python 3 (ipykernel)",
   "language": "python",
   "name": "python3"
  },
  "language_info": {
   "codemirror_mode": {
    "name": "ipython",
    "version": 3
   },
   "file_extension": ".py",
   "mimetype": "text/x-python",
   "name": "python",
   "nbconvert_exporter": "python",
   "pygments_lexer": "ipython3",
   "version": "3.11.5"
  }
 },
 "nbformat": 4,
 "nbformat_minor": 5
}
